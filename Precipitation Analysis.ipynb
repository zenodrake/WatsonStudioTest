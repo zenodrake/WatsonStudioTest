{
    "cells": [
        {
            "cell_type": "markdown",
            "metadata": {},
            "source": "Global Superstore Orders data set from free Tableau learning videos"
        },
        {
            "cell_type": "code",
            "execution_count": 2,
            "metadata": {},
            "outputs": [
                {
                    "data": {
                        "text/html": "<div>\n<style scoped>\n    .dataframe tbody tr th:only-of-type {\n        vertical-align: middle;\n    }\n\n    .dataframe tbody tr th {\n        vertical-align: top;\n    }\n\n    .dataframe thead th {\n        text-align: right;\n    }\n</style>\n<table border=\"1\" class=\"dataframe\">\n  <thead>\n    <tr style=\"text-align: right;\">\n      <th></th>\n      <th>Row ID</th>\n      <th>Order ID</th>\n      <th>Order Date</th>\n      <th>Ship Date</th>\n      <th>Ship Mode</th>\n      <th>Customer ID</th>\n      <th>Customer Name</th>\n      <th>Segment</th>\n      <th>Postal Code</th>\n      <th>City</th>\n      <th>...</th>\n      <th>Product ID</th>\n      <th>Category</th>\n      <th>Sub-Category</th>\n      <th>Product Name</th>\n      <th>Sales</th>\n      <th>Quantity</th>\n      <th>Discount</th>\n      <th>Profit</th>\n      <th>Shipping Cost</th>\n      <th>Order Priority</th>\n    </tr>\n  </thead>\n  <tbody>\n    <tr>\n      <th>0</th>\n      <td>40098</td>\n      <td>CA-2014-AB10015140-41954</td>\n      <td>11/11/2014</td>\n      <td>11/13/2014</td>\n      <td>First Class</td>\n      <td>AB-100151402</td>\n      <td>Aaron Bergman</td>\n      <td>Consumer</td>\n      <td>73120.0</td>\n      <td>Oklahoma City</td>\n      <td>...</td>\n      <td>TEC-PH-5816</td>\n      <td>Technology</td>\n      <td>Phones</td>\n      <td>Samsung Convoy 3</td>\n      <td>$221.98</td>\n      <td>2</td>\n      <td>0.0</td>\n      <td>$62.15</td>\n      <td>40.77</td>\n      <td>High</td>\n    </tr>\n    <tr>\n      <th>1</th>\n      <td>26341</td>\n      <td>IN-2014-JR162107-41675</td>\n      <td>2/5/2014</td>\n      <td>2/7/2014</td>\n      <td>Second Class</td>\n      <td>JR-162107</td>\n      <td>Justin Ritter</td>\n      <td>Corporate</td>\n      <td>NaN</td>\n      <td>Wollongong</td>\n      <td>...</td>\n      <td>FUR-CH-5379</td>\n      <td>Furniture</td>\n      <td>Chairs</td>\n      <td>Novimex Executive Leather Armchair, Black</td>\n      <td>$3,709.40</td>\n      <td>9</td>\n      <td>0.1</td>\n      <td>-$288.77</td>\n      <td>923.63</td>\n      <td>Critical</td>\n    </tr>\n    <tr>\n      <th>2</th>\n      <td>25330</td>\n      <td>IN-2014-CR127307-41929</td>\n      <td>10/17/2014</td>\n      <td>10/18/2014</td>\n      <td>First Class</td>\n      <td>CR-127307</td>\n      <td>Craig Reiter</td>\n      <td>Consumer</td>\n      <td>NaN</td>\n      <td>Brisbane</td>\n      <td>...</td>\n      <td>TEC-PH-5356</td>\n      <td>Technology</td>\n      <td>Phones</td>\n      <td>Nokia Smart Phone, with Caller ID</td>\n      <td>$5,175.17</td>\n      <td>9</td>\n      <td>0.1</td>\n      <td>$919.97</td>\n      <td>915.49</td>\n      <td>Medium</td>\n    </tr>\n    <tr>\n      <th>3</th>\n      <td>13524</td>\n      <td>ES-2014-KM1637548-41667</td>\n      <td>1/28/2014</td>\n      <td>1/30/2014</td>\n      <td>First Class</td>\n      <td>KM-1637548</td>\n      <td>Katherine Murray</td>\n      <td>Home Office</td>\n      <td>NaN</td>\n      <td>Berlin</td>\n      <td>...</td>\n      <td>TEC-PH-5267</td>\n      <td>Technology</td>\n      <td>Phones</td>\n      <td>Motorola Smart Phone, Cordless</td>\n      <td>$2,892.51</td>\n      <td>5</td>\n      <td>0.1</td>\n      <td>-$96.54</td>\n      <td>910.16</td>\n      <td>Medium</td>\n    </tr>\n    <tr>\n      <th>4</th>\n      <td>47221</td>\n      <td>SG-2014-RH9495111-41948</td>\n      <td>11/5/2014</td>\n      <td>11/6/2014</td>\n      <td>Same Day</td>\n      <td>RH-9495111</td>\n      <td>Rick Hansen</td>\n      <td>Consumer</td>\n      <td>NaN</td>\n      <td>Dakar</td>\n      <td>...</td>\n      <td>TEC-CO-6011</td>\n      <td>Technology</td>\n      <td>Copiers</td>\n      <td>Sharp Wireless Fax, High-Speed</td>\n      <td>$2,832.96</td>\n      <td>8</td>\n      <td>0.0</td>\n      <td>$311.52</td>\n      <td>903.04</td>\n      <td>Critical</td>\n    </tr>\n  </tbody>\n</table>\n<p>5 rows \u00d7 24 columns</p>\n</div>",
                        "text/plain": "   Row ID                  Order ID  Order Date   Ship Date     Ship Mode  \\\n0   40098  CA-2014-AB10015140-41954  11/11/2014  11/13/2014   First Class   \n1   26341    IN-2014-JR162107-41675    2/5/2014    2/7/2014  Second Class   \n2   25330    IN-2014-CR127307-41929  10/17/2014  10/18/2014   First Class   \n3   13524   ES-2014-KM1637548-41667   1/28/2014   1/30/2014   First Class   \n4   47221   SG-2014-RH9495111-41948   11/5/2014   11/6/2014      Same Day   \n\n    Customer ID     Customer Name      Segment  Postal Code           City  \\\n0  AB-100151402     Aaron Bergman     Consumer      73120.0  Oklahoma City   \n1     JR-162107     Justin Ritter    Corporate          NaN     Wollongong   \n2     CR-127307      Craig Reiter     Consumer          NaN       Brisbane   \n3    KM-1637548  Katherine Murray  Home Office          NaN         Berlin   \n4    RH-9495111       Rick Hansen     Consumer          NaN          Dakar   \n\n   ...   Product ID    Category Sub-Category  \\\n0  ...  TEC-PH-5816  Technology       Phones   \n1  ...  FUR-CH-5379   Furniture       Chairs   \n2  ...  TEC-PH-5356  Technology       Phones   \n3  ...  TEC-PH-5267  Technology       Phones   \n4  ...  TEC-CO-6011  Technology      Copiers   \n\n                                Product Name      Sales Quantity Discount  \\\n0                           Samsung Convoy 3    $221.98        2      0.0   \n1  Novimex Executive Leather Armchair, Black  $3,709.40        9      0.1   \n2          Nokia Smart Phone, with Caller ID  $5,175.17        9      0.1   \n3             Motorola Smart Phone, Cordless  $2,892.51        5      0.1   \n4             Sharp Wireless Fax, High-Speed  $2,832.96        8      0.0   \n\n     Profit Shipping Cost  Order Priority  \n0    $62.15         40.77            High  \n1  -$288.77        923.63        Critical  \n2   $919.97        915.49          Medium  \n3   -$96.54        910.16          Medium  \n4   $311.52        903.04        Critical  \n\n[5 rows x 24 columns]"
                    },
                    "execution_count": 2,
                    "metadata": {},
                    "output_type": "execute_result"
                }
            ],
            "source": "# The code was removed by Watson Studio for sharing."
        },
        {
            "cell_type": "code",
            "execution_count": null,
            "metadata": {},
            "outputs": [],
            "source": ""
        }
    ],
    "metadata": {
        "kernelspec": {
            "display_name": "Python 3.7",
            "language": "python",
            "name": "python3"
        },
        "language_info": {
            "codemirror_mode": {
                "name": "ipython",
                "version": 3
            },
            "file_extension": ".py",
            "mimetype": "text/x-python",
            "name": "python",
            "nbconvert_exporter": "python",
            "pygments_lexer": "ipython3",
            "version": "3.7.9"
        }
    },
    "nbformat": 4,
    "nbformat_minor": 1
}